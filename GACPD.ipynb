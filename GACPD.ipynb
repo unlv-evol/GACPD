{
 "cells": [
  {
   "cell_type": "code",
   "source": [
    "%load_ext autoreload\n",
    "%autoreload 2"
   ],
   "metadata": {
    "collapsed": false,
    "ExecuteTime": {
     "end_time": "2025-07-11T18:31:01.800752Z",
     "start_time": "2025-07-11T18:31:01.774610Z"
    }
   },
   "id": "26f4ecaadf1a27b1",
   "outputs": [],
   "execution_count": 1
  },
  {
   "cell_type": "code",
   "source": [
    "import os\n",
    "import sys\n",
    "from GACPD.GACPD import  GACPD"
   ],
   "metadata": {
    "collapsed": true,
    "ExecuteTime": {
     "end_time": "2025-07-11T18:31:03.306341Z",
     "start_time": "2025-07-11T18:31:01.946210Z"
    }
   },
   "id": "initial_id",
   "outputs": [],
   "execution_count": 2
  },
  {
   "cell_type": "code",
   "source": [
    "token_list = []\n",
    "token_file = 'tokens.txt'\n",
    "\n",
    "if not os.path.exists(\"reports\"):\n",
    "    os.mkdir(\"reports\")\n",
    "\n",
    "if not os.path.exists(\"src\"):\n",
    "    os.mkdir(\"src\")\n",
    "\n",
    "if not os.path.exists(\"cmp\"):\n",
    "    os.mkdir(\"cmp\")\n",
    "\n",
    "print(os.getcwd())\n",
    "\n",
    "with open(token_file, 'r') as f:\n",
    "    for line in f.readlines():\n",
    "        token_list.append(line.strip('\\n'))"
   ],
   "metadata": {
    "collapsed": false,
    "ExecuteTime": {
     "end_time": "2025-07-11T18:31:03.512681Z",
     "start_time": "2025-07-11T18:31:03.497880Z"
    }
   },
   "id": "6eedc54efce4aed9",
   "outputs": [
    {
     "name": "stdout",
     "output_type": "stream",
     "text": [
      "/home/gonzalo/Desktop/GACPD\n"
     ]
    }
   ],
   "execution_count": 3
  },
  {
   "metadata": {
    "collapsed": false,
    "ExecuteTime": {
     "end_time": "2025-07-11T18:31:03.554161Z",
     "start_time": "2025-07-11T18:31:03.540888Z"
    }
   },
   "cell_type": "code",
   "source": [
    "# data = ('1', 'apache/kafka', 'linkedin/kafka', token_list, '', '')\n",
    "# data = ('2', 'dlindahl/omniauth-cas', 'tduehr/omniauth-cas3', token_list, '', '')\n",
    "# data = ('3', 'ekohl/metadata_json_deps', 'puppetlabs/dependency_checker', token_list, '', '')\n",
    "# data = ('4', 'lemurheavy/coveralls-ruby', 'tagliala/coveralls-ruby-reborn', token_list, '', '')\n",
    "# data = ('5', 'openssh/openssh-portable', 'PowerShell/openssh-portable', token_list, '', '')\n",
    "# data = ('6', 'openssh/openssh-portable', 'open-quantum-safe/openssl', token_list, '', '') - bad start date\n",
    "# data = ('7', 'paramiko/paramiko', 'ploxiln/paramiko-ng', token_list, '', '')\n",
    "# data = ('8', 'jagrosh/MusicBot', 'Cosgy-Dev/JMusicBot-JP', token_list, '', '')\n",
    "# data = ('9', 'bitcoinj/bitcoinj', 'langerhans/dogecoinj-new', token_list, '', '')\n",
    "# data = ('10', 'micke/valid_email2', 'wolfemm/email_assessor', token_list, '', '')\n",
    "# data = ('11', 'NickWaterton/Roomba980-Python', 'pschmitt/roombapy', token_list, '', '')\n",
    "# data = ('12', 'jekyll/jekyll-admin', 'ashmaroli/jekyll-manager', token_list, '', '')\n",
    "# data = ('13', 'ledermann/rails-settings', 'huacnlee/rails-settings-cached', token_list, '', '') - bad date\n",
    "# data = ('14', 'getredash/redash', 'mozilla/redash', token_list, '', '')\n",
    "# data = ('15', 'DMTF/python-redfish-library', 'HewlettPackard/python-ilorest-library', token_list, '', '')\n",
    "# data = ('16', 'coderholic/django-cities', 'yourlabs/django-cities-light', token_list, '', '')\n",
    "# data = ('17', 'spesmilo/electrum', 'Electron-Cash/Electron-Cash', token_list, '', '')\n",
    "# data = ('18', 'apache/roller', 'gmazza/tightblog', token_list, '', '')\n",
    "data = ('999', 'apache/kafka', 'linkedin/kafka', token_list, '', '')"
   ],
   "id": "b3e50a162d43a432",
   "outputs": [],
   "execution_count": 4
  },
  {
   "metadata": {
    "collapsed": false,
    "ExecuteTime": {
     "end_time": "2025-07-11T18:31:03.635088Z",
     "start_time": "2025-07-11T18:31:03.617615Z"
    }
   },
   "cell_type": "code",
   "source": "example = GACPD(data)",
   "id": "eb19af1ec2ab68f8",
   "outputs": [],
   "execution_count": 5
  },
  {
   "cell_type": "code",
   "source": [
    "example.get_dates()"
   ],
   "metadata": {
    "collapsed": false,
    "ExecuteTime": {
     "end_time": "2025-07-11T18:31:08.351059Z",
     "start_time": "2025-07-11T18:31:03.694439Z"
    }
   },
   "id": "a0b9aebd8424a5ad",
   "outputs": [
    {
     "name": "stdout",
     "output_type": "stream",
     "text": [
      "The divergence_date of the repository linkedin/kafka is 2022-06-02T17:08:43Z and the cut_off_date is 2025-07-08T04:24:59Z.\n",
      "The variant2 is ==>\n",
      "\t Ahead by 471 patches\n",
      "\t Behind by 6833 patches\n",
      "Select an interval within the period [2022-06-02T17:08:43Z, 2025-07-08T04:24:59Z] to limit the patches being checked.\n"
     ]
    }
   ],
   "execution_count": 6
  },
  {
   "cell_type": "code",
   "source": [
    "# prs_source = example.extractPatches('2022-06-02T17:08:43Z', '2025-04-15T18:26:45Z')\n",
    "# prs_source = example.extractPatches('2015-10-21T04:20:49Z', '2023-01-27T22:00:31Z')\n",
    "# prs_source = example.extractPatches('2019-01-04T11:44:36Z', '2025-04-10T14:47:58Z')\n",
    "# prs_source = example.extractPatches('2017-09-14T16:34:37Z', '2025-03-26T07:25:46Z')\n",
    "# prs_source = example.extractPatches('2022-10-07T15:25:23Z', '2025-06-07T07:02:07Z')\n",
    "# prs_source = example.extractPatches('', '2025-05-28T05:48:28Z]') - bad start date\n",
    "# prs_source = example.extractPatches('2019-06-09T18:16:05Z', '2025-03-17T09:00:24Z')\n",
    "# prs_source = example.extractPatches('2021-02-26T14:38:47Z', '2025-06-06T07:55:33Z')\n",
    "# prs_source = example.extractPatches('2019-03-01T09:22:34Z', '2025-01-14T23:02:39Z')\n",
    "# prs_source = example.extractPatches('2016-02-26T23:50:18Z', '2025-02-26T20:43:14Z')\n",
    "# prs_source = example.extractPatches('2023-04-17T07:45:18Z', '2025-06-03T07:34:58Z')\n",
    "# prs_source = example.extractPatches('2017-06-05T05:48:21Z', '2025-02-25T08:50:24Z')\n",
    "# prs_source = example.extractPatches() # Bad date\n",
    "# prs_source = example.extractPatches('2020-07-13T17:06:12Z', '2025-05-07T14:47:08Z')\n",
    "# prs_source = example.extractPatches('2017-03-22T21:58:55Z', '2025-06-02T20:22:53Z')\n",
    "# prs_source = example.extractPatches('2015-04-02T15:38:38Z', '2025-06-08T12:14:59Z')\n",
    "# prs_source = example.extractPatches('2024-02-22T11:05:24Z', '2025-06-02T03:12:43Z')\n",
    "# prs_source = example.extractPatches('2018-04-16T17:41:29Z', '2025-04-13T19:20:02Z')\n",
    "prs_source = example.extractPatches('2022-06-28T17:08:43Z', '2022-07-03T18:26:45Z')"
   ],
   "metadata": {
    "collapsed": false,
    "ExecuteTime": {
     "end_time": "2025-07-11T18:33:07.219893Z",
     "start_time": "2025-07-11T18:31:08.383339Z"
    }
   },
   "id": "c255d85ccb9e00d6",
   "outputs": [
    {
     "name": "stdout",
     "output_type": "stream",
     "text": [
      "Extracting patches between 2022-06-28T17:08:43Z and 2022-07-03T18:26:45Z...\n",
      "https://api.github.com/repos/apache/kafka/pulls?page=1&per_page=100&state=closed&sort=created&direction=desc\n",
      "https://api.github.com/repos/apache/kafka/pulls?page=2&per_page=100&state=closed&sort=created&direction=desc\n",
      "https://api.github.com/repos/apache/kafka/pulls?page=3&per_page=100&state=closed&sort=created&direction=desc\n",
      "https://api.github.com/repos/apache/kafka/pulls?page=4&per_page=100&state=closed&sort=created&direction=desc\n",
      "https://api.github.com/repos/apache/kafka/pulls?page=5&per_page=100&state=closed&sort=created&direction=desc\n",
      "https://api.github.com/repos/apache/kafka/pulls?page=6&per_page=100&state=closed&sort=created&direction=desc\n",
      "https://api.github.com/repos/apache/kafka/pulls?page=7&per_page=100&state=closed&sort=created&direction=desc\n",
      "https://api.github.com/repos/apache/kafka/pulls?page=8&per_page=100&state=closed&sort=created&direction=desc\n",
      "https://api.github.com/repos/apache/kafka/pulls?page=9&per_page=100&state=closed&sort=created&direction=desc\n",
      "https://api.github.com/repos/apache/kafka/pulls?page=10&per_page=100&state=closed&sort=created&direction=desc\n",
      "https://api.github.com/repos/apache/kafka/pulls?page=11&per_page=100&state=closed&sort=created&direction=desc\n",
      "https://api.github.com/repos/apache/kafka/pulls?page=12&per_page=100&state=closed&sort=created&direction=desc\n",
      "https://api.github.com/repos/apache/kafka/pulls?page=13&per_page=100&state=closed&sort=created&direction=desc\n",
      "https://api.github.com/repos/apache/kafka/pulls?page=14&per_page=100&state=closed&sort=created&direction=desc\n",
      "https://api.github.com/repos/apache/kafka/pulls?page=15&per_page=100&state=closed&sort=created&direction=desc\n",
      "https://api.github.com/repos/apache/kafka/pulls?page=16&per_page=100&state=closed&sort=created&direction=desc\n",
      "https://api.github.com/repos/apache/kafka/pulls?page=17&per_page=100&state=closed&sort=created&direction=desc\n",
      "https://api.github.com/repos/apache/kafka/pulls?page=18&per_page=100&state=closed&sort=created&direction=desc\n",
      "https://api.github.com/repos/apache/kafka/pulls?page=19&per_page=100&state=closed&sort=created&direction=desc\n",
      "https://api.github.com/repos/apache/kafka/pulls?page=20&per_page=100&state=closed&sort=created&direction=desc\n",
      "https://api.github.com/repos/apache/kafka/pulls?page=21&per_page=100&state=closed&sort=created&direction=desc\n",
      "https://api.github.com/repos/apache/kafka/pulls?page=22&per_page=100&state=closed&sort=created&direction=desc\n",
      "https://api.github.com/repos/apache/kafka/pulls?page=23&per_page=100&state=closed&sort=created&direction=desc\n",
      "https://api.github.com/repos/apache/kafka/pulls?page=24&per_page=100&state=closed&sort=created&direction=desc\n",
      "https://api.github.com/repos/apache/kafka/pulls?page=25&per_page=100&state=closed&sort=created&direction=desc\n",
      "https://api.github.com/repos/apache/kafka/pulls?page=26&per_page=100&state=closed&sort=created&direction=desc\n",
      "https://api.github.com/repos/apache/kafka/pulls?page=27&per_page=100&state=closed&sort=created&direction=desc\n",
      "https://api.github.com/repos/apache/kafka/pulls?page=28&per_page=100&state=closed&sort=created&direction=desc\n",
      "https://api.github.com/repos/apache/kafka/pulls?page=29&per_page=100&state=closed&sort=created&direction=desc\n",
      "https://api.github.com/repos/apache/kafka/pulls?page=30&per_page=100&state=closed&sort=created&direction=desc\n",
      "https://api.github.com/repos/apache/kafka/pulls?page=31&per_page=100&state=closed&sort=created&direction=desc\n",
      "https://api.github.com/repos/apache/kafka/pulls?page=32&per_page=100&state=closed&sort=created&direction=desc\n",
      "https://api.github.com/repos/apache/kafka/pulls?page=33&per_page=100&state=closed&sort=created&direction=desc\n",
      "https://api.github.com/repos/apache/kafka/pulls?page=34&per_page=100&state=closed&sort=created&direction=desc\n",
      "https://api.github.com/repos/apache/kafka/pulls?page=35&per_page=100&state=closed&sort=created&direction=desc\n",
      "https://api.github.com/repos/apache/kafka/pulls?page=36&per_page=100&state=closed&sort=created&direction=desc\n",
      "https://api.github.com/repos/apache/kafka/pulls?page=37&per_page=100&state=closed&sort=created&direction=desc\n",
      "https://api.github.com/repos/apache/kafka/pulls?page=38&per_page=100&state=closed&sort=created&direction=desc\n",
      "https://api.github.com/repos/apache/kafka/pulls?page=39&per_page=100&state=closed&sort=created&direction=desc\n",
      "https://api.github.com/repos/apache/kafka/pulls?page=40&per_page=100&state=closed&sort=created&direction=desc\n",
      "https://api.github.com/repos/apache/kafka/pulls?page=41&per_page=100&state=closed&sort=created&direction=desc\n",
      "https://api.github.com/repos/apache/kafka/pulls?page=42&per_page=100&state=closed&sort=created&direction=desc\n",
      "https://api.github.com/repos/apache/kafka/pulls?page=43&per_page=100&state=closed&sort=created&direction=desc\n",
      "https://api.github.com/repos/apache/kafka/pulls?page=44&per_page=100&state=closed&sort=created&direction=desc\n",
      "https://api.github.com/repos/apache/kafka/pulls?page=45&per_page=100&state=closed&sort=created&direction=desc\n",
      "https://api.github.com/repos/apache/kafka/pulls?page=46&per_page=100&state=closed&sort=created&direction=desc\n",
      "https://api.github.com/repos/apache/kafka/pulls?page=47&per_page=100&state=closed&sort=created&direction=desc\n",
      "https://api.github.com/repos/apache/kafka/pulls?page=48&per_page=100&state=closed&sort=created&direction=desc\n",
      "https://api.github.com/repos/apache/kafka/pulls?page=49&per_page=100&state=closed&sort=created&direction=desc\n",
      "https://api.github.com/repos/apache/kafka/pulls?page=50&per_page=100&state=closed&sort=created&direction=desc\n",
      "https://api.github.com/repos/apache/kafka/pulls?page=51&per_page=100&state=closed&sort=created&direction=desc\n",
      "https://api.github.com/repos/apache/kafka/pulls?page=52&per_page=100&state=closed&sort=created&direction=desc\n",
      "https://api.github.com/repos/apache/kafka/pulls?page=53&per_page=100&state=closed&sort=created&direction=desc\n",
      "https://api.github.com/repos/apache/kafka/pulls?page=54&per_page=100&state=closed&sort=created&direction=desc\n",
      "https://api.github.com/repos/apache/kafka/pulls?page=55&per_page=100&state=closed&sort=created&direction=desc\n",
      "https://api.github.com/repos/apache/kafka/pulls?page=56&per_page=100&state=closed&sort=created&direction=desc\n",
      "https://api.github.com/repos/apache/kafka/pulls?page=57&per_page=100&state=closed&sort=created&direction=desc\n",
      "https://api.github.com/repos/apache/kafka/pulls?page=58&per_page=100&state=closed&sort=created&direction=desc\n",
      "https://api.github.com/repos/apache/kafka/pulls?page=59&per_page=100&state=closed&sort=created&direction=desc\n",
      "https://api.github.com/repos/apache/kafka/pulls?page=60&per_page=100&state=closed&sort=created&direction=desc\n",
      "https://api.github.com/repos/apache/kafka/pulls?page=61&per_page=100&state=closed&sort=created&direction=desc\n",
      "https://api.github.com/repos/apache/kafka/pulls?page=62&per_page=100&state=closed&sort=created&direction=desc\n",
      "https://api.github.com/repos/apache/kafka/pulls?page=63&per_page=100&state=closed&sort=created&direction=desc\n",
      "https://api.github.com/repos/apache/kafka/pulls?page=64&per_page=100&state=closed&sort=created&direction=desc\n",
      "https://api.github.com/repos/apache/kafka/pulls?page=65&per_page=100&state=closed&sort=created&direction=desc\n",
      "https://api.github.com/repos/apache/kafka/pulls?page=66&per_page=100&state=closed&sort=created&direction=desc\n",
      "https://api.github.com/repos/apache/kafka/pulls?page=67&per_page=100&state=closed&sort=created&direction=desc\n",
      "https://api.github.com/repos/apache/kafka/pulls?page=68&per_page=100&state=closed&sort=created&direction=desc\n",
      "https://api.github.com/repos/apache/kafka/pulls?page=69&per_page=100&state=closed&sort=created&direction=desc\n",
      "https://api.github.com/repos/apache/kafka/pulls?page=70&per_page=100&state=closed&sort=created&direction=desc\n",
      "https://api.github.com/repos/apache/kafka/pulls?page=71&per_page=100&state=closed&sort=created&direction=desc\n",
      "https://api.github.com/repos/apache/kafka/pulls?page=72&per_page=100&state=closed&sort=created&direction=desc\n",
      "https://api.github.com/repos/apache/kafka/pulls?page=73&per_page=100&state=closed&sort=created&direction=desc\n",
      "https://api.github.com/repos/apache/kafka/pulls?page=74&per_page=100&state=closed&sort=created&direction=desc\n",
      "https://api.github.com/repos/apache/kafka/pulls?page=75&per_page=100&state=closed&sort=created&direction=desc\n",
      "https://api.github.com/repos/apache/kafka/pulls?page=76&per_page=100&state=closed&sort=created&direction=desc\n"
     ]
    }
   ],
   "execution_count": 7
  },
  {
   "cell_type": "code",
   "source": [
    "example.dfPatches()"
   ],
   "metadata": {
    "collapsed": false,
    "ExecuteTime": {
     "end_time": "2025-07-11T18:33:07.302288Z",
     "start_time": "2025-07-11T18:33:07.263682Z"
    }
   },
   "id": "184153598b40c998",
   "outputs": [
    {
     "data": {
      "text/plain": [
       "   Patch number                                        Patch title\n",
       "0         12373    minor: fix static mock usage in taskmetricstest\n",
       "1         12371  kafka-14035: fix npe caused by missing null ch...\n",
       "2         12363  hotfix: correct ordering of input buffer and e...\n",
       "3         12362  kafka-14010: alterpartition request won't retr..."
      ],
      "text/html": [
       "<div>\n",
       "<style scoped>\n",
       "    .dataframe tbody tr th:only-of-type {\n",
       "        vertical-align: middle;\n",
       "    }\n",
       "\n",
       "    .dataframe tbody tr th {\n",
       "        vertical-align: top;\n",
       "    }\n",
       "\n",
       "    .dataframe thead th {\n",
       "        text-align: right;\n",
       "    }\n",
       "</style>\n",
       "<table border=\"1\" class=\"dataframe\">\n",
       "  <thead>\n",
       "    <tr style=\"text-align: right;\">\n",
       "      <th></th>\n",
       "      <th>Patch number</th>\n",
       "      <th>Patch title</th>\n",
       "    </tr>\n",
       "  </thead>\n",
       "  <tbody>\n",
       "    <tr>\n",
       "      <th>0</th>\n",
       "      <td>12373</td>\n",
       "      <td>minor: fix static mock usage in taskmetricstest</td>\n",
       "    </tr>\n",
       "    <tr>\n",
       "      <th>1</th>\n",
       "      <td>12371</td>\n",
       "      <td>kafka-14035: fix npe caused by missing null ch...</td>\n",
       "    </tr>\n",
       "    <tr>\n",
       "      <th>2</th>\n",
       "      <td>12363</td>\n",
       "      <td>hotfix: correct ordering of input buffer and e...</td>\n",
       "    </tr>\n",
       "    <tr>\n",
       "      <th>3</th>\n",
       "      <td>12362</td>\n",
       "      <td>kafka-14010: alterpartition request won't retr...</td>\n",
       "    </tr>\n",
       "  </tbody>\n",
       "</table>\n",
       "</div>"
      ]
     },
     "execution_count": 8,
     "metadata": {},
     "output_type": "execute_result"
    }
   ],
   "execution_count": 8
  },
  {
   "cell_type": "code",
   "source": [
    "example.runClassification(prs_source)"
   ],
   "metadata": {
    "collapsed": false,
    "ExecuteTime": {
     "end_time": "2025-07-11T18:35:50.340482Z",
     "start_time": "2025-07-11T18:33:07.412355Z"
    }
   },
   "id": "a5e4c8014a3ab709",
   "outputs": [
    {
     "name": "stdout",
     "output_type": "stream",
     "text": [
      "Fetching commit information and files from patches...\n",
      "streams/src/test/java/org/apache/kafka/streams/processor/internals/metrics/TaskMetricsTest.javaHERE\n",
      "metadata/src/main/java/org/apache/kafka/timeline/SnapshottableHashTable.javaHERE\n",
      "metadata/src/test/java/org/apache/kafka/timeline/SnapshottableHashTableTest.javaHERE\n",
      "streams/src/main/java/org/apache/kafka/streams/KafkaStreams.javaHERE\n",
      "streams/src/main/java/org/apache/kafka/streams/processor/internals/PartitionGroup.javaHERE\n",
      "streams/src/main/java/org/apache/kafka/streams/processor/internals/StreamTask.javaHERE\n",
      "streams/src/main/java/org/apache/kafka/streams/processor/internals/StreamThread.javaHERE\n",
      "streams/src/main/java/org/apache/kafka/streams/processor/internals/StreamThread.javaHERE\n",
      "streams/src/main/java/org/apache/kafka/streams/processor/internals/StreamThread.javaHERE\n",
      "streams/src/main/java/org/apache/kafka/streams/processor/internals/StreamThread.javaHERE\n",
      "streams/src/main/java/org/apache/kafka/streams/processor/internals/StreamTask.javaHERE\n",
      "streams/src/main/java/org/apache/kafka/streams/processor/internals/StreamThread.javaHERE\n",
      "clients/src/main/java/org/apache/kafka/clients/consumer/internals/FetcherMetricsRegistry.javaHERE\n",
      "core/src/main/scala/kafka/cluster/BrokerEndPoint.scalaHERE\n",
      "core/src/main/scala/kafka/server/ControllerApis.scalaHERE\n",
      "core/src/test/scala/unit/kafka/cluster/BrokerEndPointTest.scalaHERE\n",
      "core/src/test/scala/unit/kafka/server/ControllerApisTest.scalaHERE\n",
      "docs/upgrade.htmlHERE\n",
      "metadata/src/main/java/org/apache/kafka/timeline/SnapshottableHashTable.javaHERE\n",
      "metadata/src/test/java/org/apache/kafka/timeline/SnapshottableHashTableTest.javaHERE\n",
      "streams/src/main/java/org/apache/kafka/streams/processor/internals/DefaultStateUpdater.javaHERE\n",
      "streams/src/test/java/org/apache/kafka/streams/processor/internals/DefaultStateUpdaterTest.javaHERE\n",
      "streams/src/test/java/org/apache/kafka/streams/processor/internals/metrics/TaskMetricsTest.javaHERE\n",
      "streams/src/main/java/org/apache/kafka/streams/KafkaStreams.javaHERE\n",
      "streams/src/main/java/org/apache/kafka/streams/processor/internals/StreamTask.javaHERE\n",
      "streams/src/test/java/org/apache/kafka/streams/processor/internals/PartitionGroupTest.javaHERE\n",
      "core/src/main/scala/kafka/cluster/Partition.scalaHERE\n",
      "core/src/main/scala/kafka/server/AlterIsrManager.scalaHERE\n",
      "core/src/test/scala/unit/kafka/cluster/PartitionTest.scalaHERE\n",
      "core/src/test/scala/unit/kafka/server/AlterIsrManagerTest.scalaHERE\n",
      "core/src/test/scala/unit/kafka/cluster/PartitionTest.scalaHERE\n",
      "Fetch Runtime:  17.118424892425537\n"
     ]
    },
    {
     "name": "stderr",
     "output_type": "stream",
     "text": [
      "Cloning into 'kafka'...\n",
      "Cloning into 'kafka'...\n"
     ]
    },
    {
     "name": "stdout",
     "output_type": "stream",
     "text": [
      "Repository created at: 2018-08-31T21:32:03Z\n",
      "======================================================================\n",
      "\n",
      "Starting classification for apache/kafka, - , linkedin/kafka...\n",
      "======================================================================\n",
      "\n",
      "Bar plot of the patch classifications for apache/kafka -> linkedin/kafka\n"
     ]
    },
    {
     "data": {
      "text/plain": [
       "<Figure size 1200x800 with 1 Axes>"
      ],
      "image/png": "[encoded data removed]"
     },
     "metadata": {},
     "output_type": "display_data"
    }
   ],
   "execution_count": 9
  },
  {
   "cell_type": "code",
   "source": [
    "# example.dfPatchClass().to_csv('results-50-40-30-fullAll.csv')\n",
    "# example.dfFileClass()\n",
    "# example.dfFileClass().to_csv('GACPD-50-40-30-fullAll.csv')"
   ],
   "metadata": {
    "collapsed": false,
    "ExecuteTime": {
     "end_time": "2025-07-11T18:35:50.442187Z",
     "start_time": "2025-07-11T18:35:50.421734Z"
    }
   },
   "id": "62967a932898fc6d",
   "outputs": [],
   "execution_count": 10
  },
  {
   "metadata": {
    "ExecuteTime": {
     "end_time": "2025-07-11T18:35:50.488264Z",
     "start_time": "2025-07-11T18:35:50.474824Z"
    }
   },
   "cell_type": "code",
   "source": [
    "for i in range(0, len(example.cycles)):\n",
    "    print(example.cycles[i])"
   ],
   "id": "61845093233fbe85",
   "outputs": [
    {
     "name": "stdout",
     "output_type": "stream",
     "text": [
      "['streams/src/test/java/org/apache/kafka/streams/state/internals/SegmentIteratorTest.java', 'streams/src/test/java/org/apache/kafka/streams/state/internals/KeyValueSegmentIteratorTest.java', 'streams/src/test/java/org/apache/kafka/streams/state/internals/SegmentIteratorTest.java']\n",
      "['core/src/main/scala/kafka/server/BrokerToControllerChannelManager.scala', 'core/src/main/scala/kafka/server/BrokerToControllerChannelManagerImpl.scala', 'core/src/main/scala/kafka/server/BrokerToControllerChannelManager.scala']\n"
     ]
    }
   ],
   "execution_count": 11
  },
  {
   "metadata": {
    "ExecuteTime": {
     "end_time": "2025-07-11T18:35:50.954042Z",
     "start_time": "2025-07-11T18:35:50.554088Z"
    }
   },
   "cell_type": "code",
   "source": [
    "example.create_dynamic_js()\n",
    "# TO view results run this on the terminal: python3 -m http.server 8000\n",
    "# TO end server session just ctrl + c"
   ],
   "id": "62855ba604f1dfdf",
   "outputs": [
    {
     "name": "stdout",
     "output_type": "stream",
     "text": [
      "✅ JavaScript file written to: dynamic_boxes.js\n"
     ]
    }
   ],
   "execution_count": 12
  }
 ],
 "metadata": {
  "kernelspec": {
   "display_name": "Python 3",
   "language": "python",
   "name": "python3"
  },
  "language_info": {
   "codemirror_mode": {
    "name": "ipython",
    "version": 2
   },
   "file_extension": ".py",
   "mimetype": "text/x-python",
   "name": "python",
   "nbconvert_exporter": "python",
   "pygments_lexer": "ipython2",
   "version": "2.7.6"
  }
 },
 "nbformat": 4,
 "nbformat_minor": 5
}
