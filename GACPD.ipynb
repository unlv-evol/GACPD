{
 "cells": [
  {
   "cell_type": "code",
   "source": [
    "%load_ext autoreload\n",
    "%autoreload 2"
   ],
   "metadata": {
    "collapsed": false
   },
   "id": "26f4ecaadf1a27b1",
   "outputs": [],
   "execution_count": null
  },
  {
   "cell_type": "code",
   "source": [
    "import os\n",
    "import sys\n",
    "from GACPD.GACPD import  GACPD"
   ],
   "metadata": {
    "collapsed": true
   },
   "id": "initial_id",
   "outputs": [],
   "execution_count": null
  },
  {
   "cell_type": "code",
   "source": [
    "token_list = []\n",
    "token_file = 'tokens.txt'\n",
    "\n",
    "if not os.path.exists(\"reports\"):\n",
    "    os.mkdir(\"reports\")\n",
    "\n",
    "if not os.path.exists(\"src\"):\n",
    "    os.mkdir(\"src\")\n",
    "\n",
    "if not os.path.exists(\"cmp\"):\n",
    "    os.mkdir(\"cmp\")\n",
    "\n",
    "print(os.getcwd())\n",
    "\n",
    "with open(token_file, 'r') as f:\n",
    "    for line in f.readlines():\n",
    "        token_list.append(line.strip('\\n'))"
   ],
   "metadata": {
    "collapsed": false
   },
   "id": "6eedc54efce4aed9",
   "outputs": [],
   "execution_count": null
  },
  {
   "metadata": {
    "collapsed": false
   },
   "cell_type": "code",
   "source": "data = ('999', 'apache/kafka', 'linkedin/kafka', token_list, '', '')",
   "id": "b3e50a162d43a432",
   "outputs": [],
   "execution_count": null
  },
  {
   "metadata": {
    "collapsed": false
   },
   "cell_type": "code",
   "source": "example = GACPD(data)",
   "id": "eb19af1ec2ab68f8",
   "outputs": [],
   "execution_count": null
  },
  {
   "cell_type": "code",
   "source": [
    "example.get_dates()"
   ],
   "metadata": {
    "collapsed": false
   },
   "id": "a0b9aebd8424a5ad",
   "outputs": [],
   "execution_count": null
  },
  {
   "cell_type": "code",
   "source": "prs_source = example.extractPatches('2018-08-28T17:08:43Z', '2022-06-02T17:08:43Z')",
   "metadata": {
    "collapsed": false
   },
   "id": "c255d85ccb9e00d6",
   "outputs": [],
   "execution_count": null
  },
  {
   "cell_type": "code",
   "source": [
    "example.dfPatches()"
   ],
   "metadata": {
    "collapsed": false
   },
   "id": "184153598b40c998",
   "outputs": [],
   "execution_count": null
  },
  {
   "cell_type": "code",
   "source": [
    "example.runClassification(prs_source)"
   ],
   "metadata": {
    "collapsed": false
   },
   "id": "a5e4c8014a3ab709",
   "outputs": [],
   "execution_count": null
  },
  {
   "cell_type": "code",
   "source": [
    "# example.dfPatchClass().to_csv('results-50-40-30-fullAll.csv')\n",
    "# example.dfFileClass()\n",
    "# example.dfFileClass().to_csv('GACPD-50-40-30-fullAll.csv')"
   ],
   "metadata": {
    "collapsed": false
   },
   "id": "62967a932898fc6d",
   "outputs": [],
   "execution_count": null
  },
  {
   "metadata": {},
   "cell_type": "code",
   "source": [
    "for i in range(0, len(example.cycles)):\n",
    "    print(example.cycles[i])"
   ],
   "id": "61845093233fbe85",
   "outputs": [],
   "execution_count": null
  },
  {
   "metadata": {},
   "cell_type": "code",
   "source": [
    "example.create_dynamic_js()\n",
    "# TO view results run this on the terminal: python3 -m http.server 8000\n",
    "# TO end server session just ctrl + c"
   ],
   "id": "62855ba604f1dfdf",
   "outputs": [],
   "execution_count": null
  }
 ],
 "metadata": {
  "kernelspec": {
   "display_name": "Python 3",
   "language": "python",
   "name": "python3"
  },
  "language_info": {
   "codemirror_mode": {
    "name": "ipython",
    "version": 2
   },
   "file_extension": ".py",
   "mimetype": "text/x-python",
   "name": "python",
   "nbconvert_exporter": "python",
   "pygments_lexer": "ipython2",
   "version": "2.7.6"
  }
 },
 "nbformat": 4,
 "nbformat_minor": 5
}
