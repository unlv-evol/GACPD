{
 "cells": [
  {
   "cell_type": "code",
   "source": [
    "%load_ext autoreload\n",
    "%autoreload 2"
   ],
   "metadata": {
    "collapsed": false,
    "ExecuteTime": {
     "end_time": "2025-04-25T19:10:24.574332Z",
     "start_time": "2025-04-25T19:10:24.562186Z"
    }
   },
   "id": "26f4ecaadf1a27b1",
   "outputs": [],
   "execution_count": 1
  },
  {
   "cell_type": "code",
   "source": [
    "import os\n",
    "import sys\n",
    "from GACPD.GACPD import  GACPD"
   ],
   "metadata": {
    "collapsed": true,
    "ExecuteTime": {
     "end_time": "2025-04-25T19:10:25.062285Z",
     "start_time": "2025-04-25T19:10:24.606326Z"
    }
   },
   "id": "initial_id",
   "outputs": [],
   "execution_count": 2
  },
  {
   "cell_type": "code",
   "source": [
    "token_list = []\n",
    "token_file = 'tokens.txt'\n",
    "\n",
    "if not os.path.exists(\"reports\"):\n",
    "    os.mkdir(\"reports\")\n",
    "\n",
    "if not os.path.exists(\"src\"):\n",
    "    os.mkdir(\"src\")\n",
    "\n",
    "if not os.path.exists(\"cmp\"):\n",
    "    os.mkdir(\"cmp\")\n",
    "\n",
    "with open(token_file, 'r') as f:\n",
    "    for line in f.readlines():\n",
    "        token_list.append(line.strip('\\n'))"
   ],
   "metadata": {
    "collapsed": false,
    "ExecuteTime": {
     "end_time": "2025-04-25T19:10:25.129797Z",
     "start_time": "2025-04-25T19:10:25.122247Z"
    }
   },
   "id": "6eedc54efce4aed9",
   "outputs": [],
   "execution_count": 3
  },
  {
   "cell_type": "code",
   "source": [
    "data = ('1', 'apache/kafka', 'linkedin/kafka', token_list, '', '')"
   ],
   "metadata": {
    "collapsed": false,
    "ExecuteTime": {
     "end_time": "2025-04-25T19:10:25.188005Z",
     "start_time": "2025-04-25T19:10:25.180279Z"
    }
   },
   "id": "b3e50a162d43a432",
   "outputs": [],
   "execution_count": 4
  },
  {
   "cell_type": "code",
   "source": [
    "example = GACPD(data)"
   ],
   "metadata": {
    "collapsed": false,
    "ExecuteTime": {
     "end_time": "2025-04-25T19:10:25.228099Z",
     "start_time": "2025-04-25T19:10:25.219901Z"
    }
   },
   "id": "eb19af1ec2ab68f8",
   "outputs": [],
   "execution_count": 5
  },
  {
   "cell_type": "code",
   "source": [
    "example.get_dates()"
   ],
   "metadata": {
    "collapsed": false,
    "ExecuteTime": {
     "end_time": "2025-04-25T19:10:30.125317Z",
     "start_time": "2025-04-25T19:10:25.279281Z"
    }
   },
   "id": "a0b9aebd8424a5ad",
   "outputs": [
    {
     "name": "stdout",
     "output_type": "stream",
     "text": [
      "The divergence_date of the repository linkedin/kafka is 2022-06-02T17:08:43Z and the cut_off_date is 2025-04-15T18:26:45Z.\n",
      "The variant2 is ==>\n",
      "\t Ahead by 470 patches\n",
      "\t Behind by 6332 patches\n",
      "Select an interval within the period [2022-06-02T17:08:43Z, 2025-04-15T18:26:45Z] to limit the patches being checked.\n"
     ]
    }
   ],
   "execution_count": 6
  },
  {
   "cell_type": "code",
   "source": "prs_source = example.extractPatches('2022-06-02T17:08:43Z', '2022-12-18T17:08:43Z')",
   "metadata": {
    "collapsed": false,
    "ExecuteTime": {
     "end_time": "2025-04-25T19:12:25.680259Z",
     "start_time": "2025-04-25T19:10:30.133559Z"
    }
   },
   "id": "c255d85ccb9e00d6",
   "outputs": [
    {
     "name": "stdout",
     "output_type": "stream",
     "text": [
      "Extracting patches between 2022-06-02T17:08:43Z and 2022-12-18T17:08:43Z...\n",
      "https://api.github.com/repos/apache/kafka/pulls?page=1&per_page=100&state=closed&sort=created&direction=desc\n",
      "https://api.github.com/repos/apache/kafka/pulls?page=2&per_page=100&state=closed&sort=created&direction=desc\n",
      "https://api.github.com/repos/apache/kafka/pulls?page=3&per_page=100&state=closed&sort=created&direction=desc\n",
      "https://api.github.com/repos/apache/kafka/pulls?page=4&per_page=100&state=closed&sort=created&direction=desc\n",
      "https://api.github.com/repos/apache/kafka/pulls?page=5&per_page=100&state=closed&sort=created&direction=desc\n",
      "https://api.github.com/repos/apache/kafka/pulls?page=6&per_page=100&state=closed&sort=created&direction=desc\n",
      "https://api.github.com/repos/apache/kafka/pulls?page=7&per_page=100&state=closed&sort=created&direction=desc\n",
      "https://api.github.com/repos/apache/kafka/pulls?page=8&per_page=100&state=closed&sort=created&direction=desc\n",
      "https://api.github.com/repos/apache/kafka/pulls?page=9&per_page=100&state=closed&sort=created&direction=desc\n",
      "https://api.github.com/repos/apache/kafka/pulls?page=10&per_page=100&state=closed&sort=created&direction=desc\n",
      "https://api.github.com/repos/apache/kafka/pulls?page=11&per_page=100&state=closed&sort=created&direction=desc\n",
      "https://api.github.com/repos/apache/kafka/pulls?page=12&per_page=100&state=closed&sort=created&direction=desc\n",
      "https://api.github.com/repos/apache/kafka/pulls?page=13&per_page=100&state=closed&sort=created&direction=desc\n",
      "https://api.github.com/repos/apache/kafka/pulls?page=14&per_page=100&state=closed&sort=created&direction=desc\n",
      "https://api.github.com/repos/apache/kafka/pulls?page=15&per_page=100&state=closed&sort=created&direction=desc\n",
      "https://api.github.com/repos/apache/kafka/pulls?page=16&per_page=100&state=closed&sort=created&direction=desc\n",
      "https://api.github.com/repos/apache/kafka/pulls?page=17&per_page=100&state=closed&sort=created&direction=desc\n",
      "https://api.github.com/repos/apache/kafka/pulls?page=18&per_page=100&state=closed&sort=created&direction=desc\n",
      "https://api.github.com/repos/apache/kafka/pulls?page=19&per_page=100&state=closed&sort=created&direction=desc\n",
      "https://api.github.com/repos/apache/kafka/pulls?page=20&per_page=100&state=closed&sort=created&direction=desc\n",
      "https://api.github.com/repos/apache/kafka/pulls?page=21&per_page=100&state=closed&sort=created&direction=desc\n",
      "https://api.github.com/repos/apache/kafka/pulls?page=22&per_page=100&state=closed&sort=created&direction=desc\n",
      "https://api.github.com/repos/apache/kafka/pulls?page=23&per_page=100&state=closed&sort=created&direction=desc\n",
      "https://api.github.com/repos/apache/kafka/pulls?page=24&per_page=100&state=closed&sort=created&direction=desc\n",
      "https://api.github.com/repos/apache/kafka/pulls?page=25&per_page=100&state=closed&sort=created&direction=desc\n",
      "https://api.github.com/repos/apache/kafka/pulls?page=26&per_page=100&state=closed&sort=created&direction=desc\n",
      "https://api.github.com/repos/apache/kafka/pulls?page=27&per_page=100&state=closed&sort=created&direction=desc\n",
      "https://api.github.com/repos/apache/kafka/pulls?page=28&per_page=100&state=closed&sort=created&direction=desc\n",
      "https://api.github.com/repos/apache/kafka/pulls?page=29&per_page=100&state=closed&sort=created&direction=desc\n",
      "https://api.github.com/repos/apache/kafka/pulls?page=30&per_page=100&state=closed&sort=created&direction=desc\n",
      "https://api.github.com/repos/apache/kafka/pulls?page=31&per_page=100&state=closed&sort=created&direction=desc\n",
      "https://api.github.com/repos/apache/kafka/pulls?page=32&per_page=100&state=closed&sort=created&direction=desc\n",
      "https://api.github.com/repos/apache/kafka/pulls?page=33&per_page=100&state=closed&sort=created&direction=desc\n",
      "https://api.github.com/repos/apache/kafka/pulls?page=34&per_page=100&state=closed&sort=created&direction=desc\n",
      "https://api.github.com/repos/apache/kafka/pulls?page=35&per_page=100&state=closed&sort=created&direction=desc\n",
      "https://api.github.com/repos/apache/kafka/pulls?page=36&per_page=100&state=closed&sort=created&direction=desc\n",
      "https://api.github.com/repos/apache/kafka/pulls?page=37&per_page=100&state=closed&sort=created&direction=desc\n",
      "https://api.github.com/repos/apache/kafka/pulls?page=38&per_page=100&state=closed&sort=created&direction=desc\n",
      "https://api.github.com/repos/apache/kafka/pulls?page=39&per_page=100&state=closed&sort=created&direction=desc\n",
      "https://api.github.com/repos/apache/kafka/pulls?page=40&per_page=100&state=closed&sort=created&direction=desc\n",
      "https://api.github.com/repos/apache/kafka/pulls?page=41&per_page=100&state=closed&sort=created&direction=desc\n",
      "https://api.github.com/repos/apache/kafka/pulls?page=42&per_page=100&state=closed&sort=created&direction=desc\n",
      "https://api.github.com/repos/apache/kafka/pulls?page=43&per_page=100&state=closed&sort=created&direction=desc\n",
      "https://api.github.com/repos/apache/kafka/pulls?page=44&per_page=100&state=closed&sort=created&direction=desc\n",
      "https://api.github.com/repos/apache/kafka/pulls?page=45&per_page=100&state=closed&sort=created&direction=desc\n",
      "https://api.github.com/repos/apache/kafka/pulls?page=46&per_page=100&state=closed&sort=created&direction=desc\n",
      "https://api.github.com/repos/apache/kafka/pulls?page=47&per_page=100&state=closed&sort=created&direction=desc\n",
      "https://api.github.com/repos/apache/kafka/pulls?page=48&per_page=100&state=closed&sort=created&direction=desc\n",
      "https://api.github.com/repos/apache/kafka/pulls?page=49&per_page=100&state=closed&sort=created&direction=desc\n",
      "https://api.github.com/repos/apache/kafka/pulls?page=50&per_page=100&state=closed&sort=created&direction=desc\n",
      "https://api.github.com/repos/apache/kafka/pulls?page=51&per_page=100&state=closed&sort=created&direction=desc\n",
      "https://api.github.com/repos/apache/kafka/pulls?page=52&per_page=100&state=closed&sort=created&direction=desc\n",
      "https://api.github.com/repos/apache/kafka/pulls?page=53&per_page=100&state=closed&sort=created&direction=desc\n",
      "https://api.github.com/repos/apache/kafka/pulls?page=54&per_page=100&state=closed&sort=created&direction=desc\n",
      "https://api.github.com/repos/apache/kafka/pulls?page=55&per_page=100&state=closed&sort=created&direction=desc\n",
      "https://api.github.com/repos/apache/kafka/pulls?page=56&per_page=100&state=closed&sort=created&direction=desc\n",
      "https://api.github.com/repos/apache/kafka/pulls?page=57&per_page=100&state=closed&sort=created&direction=desc\n",
      "https://api.github.com/repos/apache/kafka/pulls?page=58&per_page=100&state=closed&sort=created&direction=desc\n",
      "https://api.github.com/repos/apache/kafka/pulls?page=59&per_page=100&state=closed&sort=created&direction=desc\n",
      "https://api.github.com/repos/apache/kafka/pulls?page=60&per_page=100&state=closed&sort=created&direction=desc\n",
      "https://api.github.com/repos/apache/kafka/pulls?page=61&per_page=100&state=closed&sort=created&direction=desc\n",
      "https://api.github.com/repos/apache/kafka/pulls?page=62&per_page=100&state=closed&sort=created&direction=desc\n",
      "https://api.github.com/repos/apache/kafka/pulls?page=63&per_page=100&state=closed&sort=created&direction=desc\n",
      "https://api.github.com/repos/apache/kafka/pulls?page=64&per_page=100&state=closed&sort=created&direction=desc\n",
      "https://api.github.com/repos/apache/kafka/pulls?page=65&per_page=100&state=closed&sort=created&direction=desc\n",
      "https://api.github.com/repos/apache/kafka/pulls?page=66&per_page=100&state=closed&sort=created&direction=desc\n",
      "https://api.github.com/repos/apache/kafka/pulls?page=67&per_page=100&state=closed&sort=created&direction=desc\n",
      "https://api.github.com/repos/apache/kafka/pulls?page=68&per_page=100&state=closed&sort=created&direction=desc\n",
      "https://api.github.com/repos/apache/kafka/pulls?page=69&per_page=100&state=closed&sort=created&direction=desc\n",
      "https://api.github.com/repos/apache/kafka/pulls?page=70&per_page=100&state=closed&sort=created&direction=desc\n",
      "https://api.github.com/repos/apache/kafka/pulls?page=71&per_page=100&state=closed&sort=created&direction=desc\n"
     ]
    }
   ],
   "execution_count": 7
  },
  {
   "cell_type": "code",
   "source": [
    "example.dfPatches()"
   ],
   "metadata": {
    "collapsed": false,
    "ExecuteTime": {
     "end_time": "2025-04-25T19:12:25.707930Z",
     "start_time": "2025-04-25T19:12:25.693490Z"
    }
   },
   "id": "184153598b40c998",
   "outputs": [
    {
     "data": {
      "text/plain": [
       "     Patch number                                        Patch title\n",
       "0           13008  minor: fix compiler errors in `remoteindex*` r...\n",
       "1           12987  minor- fix fetchfromfollowerintegrationtest.te...\n",
       "2           12939  minor- avoid unnecessarily requesting node for...\n",
       "3           12938  minor: fix compilation issue in filestreamsour...\n",
       "4           12935  kafka-14432: rocksdbstore relies on finalizers...\n",
       "..            ...                                                ...\n",
       "143         12252                 minor: fix docs in quickstart.html\n",
       "144         12251                        minor: fix streams tutorial\n",
       "145         12250  kafka-13935 fix static usages of ibp in kraft ...\n",
       "146         12244  hotfix: only try to clear discover-coordinator...\n",
       "147         12243                                     minor: fix doc\n",
       "\n",
       "[148 rows x 2 columns]"
      ],
      "text/html": [
       "<div>\n",
       "<style scoped>\n",
       "    .dataframe tbody tr th:only-of-type {\n",
       "        vertical-align: middle;\n",
       "    }\n",
       "\n",
       "    .dataframe tbody tr th {\n",
       "        vertical-align: top;\n",
       "    }\n",
       "\n",
       "    .dataframe thead th {\n",
       "        text-align: right;\n",
       "    }\n",
       "</style>\n",
       "<table border=\"1\" class=\"dataframe\">\n",
       "  <thead>\n",
       "    <tr style=\"text-align: right;\">\n",
       "      <th></th>\n",
       "      <th>Patch number</th>\n",
       "      <th>Patch title</th>\n",
       "    </tr>\n",
       "  </thead>\n",
       "  <tbody>\n",
       "    <tr>\n",
       "      <th>0</th>\n",
       "      <td>13008</td>\n",
       "      <td>minor: fix compiler errors in `remoteindex*` r...</td>\n",
       "    </tr>\n",
       "    <tr>\n",
       "      <th>1</th>\n",
       "      <td>12987</td>\n",
       "      <td>minor- fix fetchfromfollowerintegrationtest.te...</td>\n",
       "    </tr>\n",
       "    <tr>\n",
       "      <th>2</th>\n",
       "      <td>12939</td>\n",
       "      <td>minor- avoid unnecessarily requesting node for...</td>\n",
       "    </tr>\n",
       "    <tr>\n",
       "      <th>3</th>\n",
       "      <td>12938</td>\n",
       "      <td>minor: fix compilation issue in filestreamsour...</td>\n",
       "    </tr>\n",
       "    <tr>\n",
       "      <th>4</th>\n",
       "      <td>12935</td>\n",
       "      <td>kafka-14432: rocksdbstore relies on finalizers...</td>\n",
       "    </tr>\n",
       "    <tr>\n",
       "      <th>...</th>\n",
       "      <td>...</td>\n",
       "      <td>...</td>\n",
       "    </tr>\n",
       "    <tr>\n",
       "      <th>143</th>\n",
       "      <td>12252</td>\n",
       "      <td>minor: fix docs in quickstart.html</td>\n",
       "    </tr>\n",
       "    <tr>\n",
       "      <th>144</th>\n",
       "      <td>12251</td>\n",
       "      <td>minor: fix streams tutorial</td>\n",
       "    </tr>\n",
       "    <tr>\n",
       "      <th>145</th>\n",
       "      <td>12250</td>\n",
       "      <td>kafka-13935 fix static usages of ibp in kraft ...</td>\n",
       "    </tr>\n",
       "    <tr>\n",
       "      <th>146</th>\n",
       "      <td>12244</td>\n",
       "      <td>hotfix: only try to clear discover-coordinator...</td>\n",
       "    </tr>\n",
       "    <tr>\n",
       "      <th>147</th>\n",
       "      <td>12243</td>\n",
       "      <td>minor: fix doc</td>\n",
       "    </tr>\n",
       "  </tbody>\n",
       "</table>\n",
       "<p>148 rows × 2 columns</p>\n",
       "</div>"
      ]
     },
     "execution_count": 8,
     "metadata": {},
     "output_type": "execute_result"
    }
   ],
   "execution_count": 8
  },
  {
   "cell_type": "code",
   "source": [
    "example.runClassification(prs_source)"
   ],
   "metadata": {
    "collapsed": false,
    "ExecuteTime": {
     "end_time": "2025-04-25T20:10:13.980103Z",
     "start_time": "2025-04-25T19:12:25.772679Z"
    }
   },
   "id": "a5e4c8014a3ab709",
   "outputs": [
    {
     "name": "stdout",
     "output_type": "stream",
     "text": [
      "Fetching commit information and files from patches...\n",
      "'patch'\n",
      "This should only happen if there are no files changed in a commit\n",
      "'patch'\n",
      "This should only happen if there are no files changed in a commit\n",
      "'patch'\n",
      "This should only happen if there are no files changed in a commit\n",
      "Fetch Runtime:  1531.9093487262726\n",
      "======================================================================\n",
      "\n",
      "Starting classification for apache/kafka, - , linkedin/kafka...\n",
      "======================================================================\n",
      "\n",
      "Bar plot of the patch classifications for apache/kafka -> linkedin/kafka\n"
     ]
    },
    {
     "data": {
      "text/plain": [
       "<Figure size 1200x800 with 1 Axes>"
      ],
      "image/png": "[encoded data removed]"
     },
     "metadata": {},
     "output_type": "display_data"
    }
   ],
   "execution_count": 9
  },
  {
   "cell_type": "code",
   "source": [
    "example.dfPatchClass().to_csv('results-50-40-30-new.csv')\n",
    "example.dfFileClass()\n",
    "example.dfFileClass().to_csv('GACPD-50-40-30-new.csv')"
   ],
   "metadata": {
    "collapsed": false,
    "ExecuteTime": {
     "end_time": "2025-04-25T20:10:14.107131Z",
     "start_time": "2025-04-25T20:10:14.074045Z"
    }
   },
   "id": "62967a932898fc6d",
   "outputs": [],
   "execution_count": 10
  },
  {
   "metadata": {
    "ExecuteTime": {
     "end_time": "2025-04-25T20:13:26.788068Z",
     "start_time": "2025-04-25T20:13:26.763546Z"
    }
   },
   "cell_type": "code",
   "source": [
    "for i in range(0, len(example.cycles)):\n",
    "    print(example.cycles[i])"
   ],
   "id": "61845093233fbe85",
   "outputs": [
    {
     "name": "stdout",
     "output_type": "stream",
     "text": [
      "['streams/src/test/java/org/apache/kafka/streams/state/internals/SegmentIteratorTest.java', 'streams/src/test/java/org/apache/kafka/streams/state/internals/KeyValueSegmentIteratorTest.java', 'streams/src/test/java/org/apache/kafka/streams/state/internals/SegmentIteratorTest.java']\n",
      "['core/src/main/scala/kafka/server/BrokerToControllerChannelManager.scala', 'core/src/main/scala/kafka/server/BrokerToControllerChannelManagerImpl.scala', 'core/src/main/scala/kafka/server/BrokerToControllerChannelManager.scala']\n"
     ]
    }
   ],
   "execution_count": 11
  },
  {
   "metadata": {},
   "cell_type": "code",
   "outputs": [],
   "execution_count": null,
   "source": "",
   "id": "62855ba604f1dfdf"
  }
 ],
 "metadata": {
  "kernelspec": {
   "display_name": "Python 3",
   "language": "python",
   "name": "python3"
  },
  "language_info": {
   "codemirror_mode": {
    "name": "ipython",
    "version": 2
   },
   "file_extension": ".py",
   "mimetype": "text/x-python",
   "name": "python",
   "nbconvert_exporter": "python",
   "pygments_lexer": "ipython2",
   "version": "2.7.6"
  }
 },
 "nbformat": 4,
 "nbformat_minor": 5
}
