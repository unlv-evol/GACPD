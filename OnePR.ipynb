{
 "cells": [
  {
   "cell_type": "code",
   "id": "initial_id",
   "metadata": {
    "collapsed": true,
    "ExecuteTime": {
     "end_time": "2025-08-14T18:46:14.359419Z",
     "start_time": "2025-08-14T18:46:14.343650Z"
    }
   },
   "source": [
    "%load_ext autoreload\n",
    "%autoreload 2"
   ],
   "outputs": [],
   "execution_count": 1
  },
  {
   "metadata": {
    "ExecuteTime": {
     "end_time": "2025-08-14T18:46:14.844924Z",
     "start_time": "2025-08-14T18:46:14.393808Z"
    }
   },
   "cell_type": "code",
   "source": [
    "import os\n",
    "import sys\n",
    "from GACPD.GACPD import  GACPD"
   ],
   "id": "e53dd79814b07f45",
   "outputs": [],
   "execution_count": 2
  },
  {
   "metadata": {
    "ExecuteTime": {
     "end_time": "2025-08-14T18:46:14.859256Z",
     "start_time": "2025-08-14T18:46:14.850930Z"
    }
   },
   "cell_type": "code",
   "source": [
    "# Add your token generated from the last lab into this list\n",
    "token_list = [\"ghp_\"]"
   ],
   "id": "66a3b10d1b151d1d",
   "outputs": [],
   "execution_count": 3
  },
  {
   "metadata": {
    "ExecuteTime": {
     "end_time": "2025-08-14T18:46:14.914522Z",
     "start_time": "2025-08-14T18:46:14.903657Z"
    }
   },
   "cell_type": "code",
   "source": [
    "# The first parameter is the result folder number -> this is the unique identifier for your results\n",
    "# The second parameter is the mainline repository -> The original repository\n",
    "# The third parameter is the divergent repository -> The forked repository\n",
    "# The fourth parameter is the list of tokens (1 should be fine for this class)\n",
    "data = ('1', 'apache/kafka', 'linkedin/kafka', token_list, '', '')"
   ],
   "id": "5148688c5deb4da1",
   "outputs": [],
   "execution_count": 4
  },
  {
   "metadata": {
    "ExecuteTime": {
     "end_time": "2025-08-14T18:46:19.586021Z",
     "start_time": "2025-08-14T18:46:14.949481Z"
    }
   },
   "cell_type": "code",
   "source": [
    "# We will now initialize GACPD with the previously defined data\n",
    "example = GACPD(data)\n",
    "\n",
    "# This function will return the potential divergent dates in which you should find a repository with a Missed Opportunity\n",
    "example.get_dates()"
   ],
   "id": "445ce7563d75a05b",
   "outputs": [
    {
     "name": "stdout",
     "output_type": "stream",
     "text": [
      "The divergence_date of the repository linkedin/kafka is 2022-06-02T17:08:43Z and the cut_off_date is 2025-07-08T04:24:59Z.\n",
      "The variant2 is ==>\n",
      "\t Ahead by 471 commits\n",
      "\t Behind by 6833 commits\n",
      "Select an interval within the period [2022-06-02T17:08:43Z, 2025-07-08T04:24:59Z] to limit the patches being checked.\n"
     ]
    }
   ],
   "execution_count": 5
  },
  {
   "metadata": {
    "ExecuteTime": {
     "end_time": "2025-08-14T18:49:04.018540Z",
     "start_time": "2025-08-14T18:48:20.325577Z"
    }
   },
   "cell_type": "code",
   "source": [
    "# Specific PR number you want to use to check if it is an MO\n",
    "example.individual_pr_check(12251)"
   ],
   "id": "9da2c403aa873cb1",
   "outputs": [
    {
     "name": "stderr",
     "output_type": "stream",
     "text": [
      "Cloning into 'kafka'...\n",
      "Cloning into 'kafka'...\n"
     ]
    },
    {
     "name": "stdout",
     "output_type": "stream",
     "text": [
      "Repository created at: 2018-08-31T21:32:03Z\n",
      "Fetching files and commit information from patches...\n",
      "---2.542466878890991 seconds ---\n",
      "\n",
      "Starting classification for apache/kafka, - , linkedin/kafka...\n"
     ]
    }
   ],
   "execution_count": 8
  }
 ],
 "metadata": {
  "kernelspec": {
   "display_name": "Python 3",
   "language": "python",
   "name": "python3"
  },
  "language_info": {
   "codemirror_mode": {
    "name": "ipython",
    "version": 2
   },
   "file_extension": ".py",
   "mimetype": "text/x-python",
   "name": "python",
   "nbconvert_exporter": "python",
   "pygments_lexer": "ipython2",
   "version": "2.7.6"
  }
 },
 "nbformat": 4,
 "nbformat_minor": 5
}
