{
 "cells": [
  {
   "cell_type": "code",
   "id": "initial_id",
   "metadata": {
    "collapsed": true,
    "ExecuteTime": {
     "end_time": "2025-08-15T13:45:14.925057Z",
     "start_time": "2025-08-15T13:45:14.897006Z"
    }
   },
   "source": [
    "%load_ext autoreload\n",
    "%autoreload 2"
   ],
   "outputs": [],
   "execution_count": 1
  },
  {
   "metadata": {
    "ExecuteTime": {
     "end_time": "2025-08-15T13:45:15.805153Z",
     "start_time": "2025-08-15T13:45:14.944782Z"
    }
   },
   "cell_type": "code",
   "source": [
    "import os\n",
    "import sys\n",
    "from GACPD.GACPD import  GACPD"
   ],
   "id": "e53dd79814b07f45",
   "outputs": [],
   "execution_count": 2
  },
  {
   "metadata": {},
   "cell_type": "markdown",
   "source": [
    "##### Here, you will include the token generated in the previous lab's\n",
    "##### For this lab, one token is enough"
   ],
   "id": "fba34b976b20cdd4"
  },
  {
   "metadata": {
    "ExecuteTime": {
     "end_time": "2025-08-15T13:45:15.892116Z",
     "start_time": "2025-08-15T13:45:15.879224Z"
    }
   },
   "cell_type": "code",
   "source": "token_list = [\"ghp_\"]",
   "id": "66a3b10d1b151d1d",
   "outputs": [],
   "execution_count": 3
  },
  {
   "metadata": {
    "ExecuteTime": {
     "end_time": "2025-08-14T18:46:14.914522Z",
     "start_time": "2025-08-14T18:46:14.903657Z"
    }
   },
   "cell_type": "markdown",
   "source": [
    "##### The first parameter is the result folder number -> this is the unique identifier for your results \\n\n",
    "##### The second parameter is the mainline repository -> The original repository\\n\n",
    "##### The third parameter is the divergent repository -> The forked repository\\n\n",
    "##### The fourth parameter is the list of tokens (1 should be fine for this class)"
   ],
   "id": "f28a8066196bbb09"
  },
  {
   "metadata": {
    "ExecuteTime": {
     "end_time": "2025-08-15T13:45:15.957664Z",
     "start_time": "2025-08-15T13:45:15.931422Z"
    }
   },
   "cell_type": "code",
   "source": "data = ('1', 'apache/kafka', 'linkedin/kafka', token_list, '', '')",
   "id": "d3464ab96b2a7ae5",
   "outputs": [],
   "execution_count": 4
  },
  {
   "metadata": {},
   "cell_type": "markdown",
   "source": "##### Here, we will be initialized GACPD",
   "id": "890ad57cf6b138de"
  },
  {
   "metadata": {
    "ExecuteTime": {
     "end_time": "2025-08-15T13:45:20.569165Z",
     "start_time": "2025-08-15T13:45:15.987269Z"
    }
   },
   "cell_type": "code",
   "source": [
    "example = GACPD(data)\n",
    "example.get_single_dates()"
   ],
   "id": "445ce7563d75a05b",
   "outputs": [],
   "execution_count": 5
  },
  {
   "metadata": {},
   "cell_type": "markdown",
   "source": [
    "##### This cell will delete and obtain the github of the mainline and divergent timelines\n",
    "###### Only run this once per unique datasets."
   ],
   "id": "651e8ed525350970"
  },
  {
   "metadata": {
    "ExecuteTime": {
     "end_time": "2025-08-15T13:46:17.754914Z",
     "start_time": "2025-08-15T13:45:20.632398Z"
    }
   },
   "cell_type": "code",
   "source": "example.get_git_information()",
   "id": "ee5677042b70cd19",
   "outputs": [
    {
     "name": "stderr",
     "output_type": "stream",
     "text": [
      "Cloning into 'kafka'...\n",
      "Cloning into 'kafka'...\n"
     ]
    },
    {
     "name": "stdout",
     "output_type": "stream",
     "text": [
      "Repository created at: 2018-08-31T21:32:03Z\n"
     ]
    }
   ],
   "execution_count": 6
  },
  {
   "metadata": {},
   "cell_type": "markdown",
   "source": "##### Provide the specific PR number you want GACPD to analyze",
   "id": "d3d8683adfd04bb4"
  },
  {
   "metadata": {
    "ExecuteTime": {
     "end_time": "2025-08-15T13:46:25.836793Z",
     "start_time": "2025-08-15T13:46:17.813392Z"
    }
   },
   "cell_type": "code",
   "source": "example.individual_pr_check(12251)",
   "id": "9da2c403aa873cb1",
   "outputs": [
    {
     "name": "stdout",
     "output_type": "stream",
     "text": [
      "Fetching files and commit information from patches...\n",
      "---2.7336313724517822 seconds ---\n",
      "\n",
      "Starting classification for apache/kafka, - , linkedin/kafka...\n"
     ]
    }
   ],
   "execution_count": 7
  },
  {
   "metadata": {},
   "cell_type": "markdown",
   "source": [
    "### Final Results Information\n",
    "##### Your results will now be located in: \"Results/Repos_results/{dataNUmber}/{PRNUM}/{classification}/{filename}/results/index.html\"\n",
    "##### Note: The more files, the more you will have to analyze"
   ],
   "id": "f4312a3dcfa212fe"
  }
 ],
 "metadata": {
  "kernelspec": {
   "display_name": "Python 3",
   "language": "python",
   "name": "python3"
  },
  "language_info": {
   "codemirror_mode": {
    "name": "ipython",
    "version": 2
   },
   "file_extension": ".py",
   "mimetype": "text/x-python",
   "name": "python",
   "nbconvert_exporter": "python",
   "pygments_lexer": "ipython2",
   "version": "2.7.6"
  }
 },
 "nbformat": 4,
 "nbformat_minor": 5
}
